{
 "cells": [
  {
   "cell_type": "code",
   "execution_count": 51,
   "id": "incoming-jordan",
   "metadata": {},
   "outputs": [],
   "source": [
    "#imports:\n",
    "import numpy as np\n",
    "import json\n",
    "import matplotlib.pyplot as plt\n",
    "from matplotlib.ticker import ScalarFormatter\n",
    "from glob import glob\n",
    "\n",
    "savefig = True"
   ]
  },
  {
   "cell_type": "code",
   "execution_count": 52,
   "id": "black-sampling",
   "metadata": {
    "tags": []
   },
   "outputs": [],
   "source": [
    "#get values:\n",
    "def load_json(name):\n",
    "    with open(name) as f:\n",
    "        data = np.array([v for v in json.load(f).values()])\n",
    "    return data\n",
    "\n",
    "#get statistics:\n",
    "def get_stats(timings):\n",
    "    no_timeout = timings < 300\n",
    "    stats = {\n",
    "        'solved instances': no_timeout.sum(),\n",
    "        'average time (all)':  timings.mean(),\n",
    "        'average time (solved)': timings[no_timeout].mean()\n",
    "    }\n",
    "    return stats\n",
    "\n",
    "#generate table:\n",
    "def make_table(many_timings, bbox=(0.05, 0.60, 0.17, 0.17)):\n",
    "    spaces = 10\n",
    "    rows = (' ' * spaces, ' ' * spaces)\n",
    "    rowcolors = ('C0', 'C1')\n",
    "    cols = ('Solved \\ninstances', 'Average\\nruntime')\n",
    "    \n",
    "    stats = [get_stats(timings) for timings in many_timings]\n",
    "    t = [[f'{s[\"solved instances\"]}/40', f'{s[\"average time (all)\"]:.2f} s'] for s in stats]\n",
    "    return plt.table(t, rowLabels=rows, rowColours=rowcolors, colLabels=cols, bbox=bbox)\n",
    "\n",
    "#show height on top of each bar:\n",
    "def autolabel(rects, ax):\n",
    "    for rect in rects:\n",
    "        height = rect.get_height()\n",
    "        ax.text(rect.get_x() + rect.get_width()/2., 1.05*height,\n",
    "                f'{height:.0f}', fontsize=10, ha='center', va='bottom',)\n",
    "        \n",
    "\n",
    "def generate_mean(file_names):\n",
    "    \n",
    "    #where to store all means:\n",
    "    means_list = []\n",
    "    \n",
    "    for i in range(len(file_names)):\n",
    "        \n",
    "        #compute mean runtime for each configuration of parameters:\n",
    "        data = load_json(file_names[i])\n",
    "        data_mean = sum(data) / len(data)\n",
    "        \n",
    "        means_list.append(data_mean)\n",
    "        \n",
    "    mean_value = sum(means_list) / len(means_list)\n",
    "    return mean_value\n",
    "        "
   ]
  },
  {
   "cell_type": "markdown",
   "id": "ae1525d9",
   "metadata": {},
   "source": [
    "# CP\n",
    "\n",
    "## NON VA IL CODICE PERCHE' NON HO I RUNTIMES DI CP"
   ]
  },
  {
   "cell_type": "code",
   "execution_count": 53,
   "id": "southwest-slovakia",
   "metadata": {
    "scrolled": false,
    "tags": []
   },
   "outputs": [
    {
     "name": "stdout",
     "output_type": "stream",
     "text": [
      "\n",
      "\n",
      "Chuffed Runtimes:\n",
      "\n",
      "0.\truntimes/CP-chuffed-rot-heuinput_order-restartnone.json\t\n",
      "1.\truntimes/CP-chuffed-sb-heudom_w_deg-restartnone.json\t\n",
      "2.\truntimes/CP-chuffed-sb-heufirst_fail-restartgeom.json\t\n",
      "3.\truntimes/CP-chuffed-heufirst_fail-restartnone.json\t\n",
      "4.\truntimes/CP-chuffed-rot-heufirst_fail-restartnone.json\t\n",
      "5.\truntimes/CP-chuffed-heuinput_order-restartgeom.json\t\n",
      "6.\truntimes/CP-chuffed-sb-heufirst_fail-restartnone.json\t\n",
      "7.\truntimes/CP-chuffed-sb-rot-heufirst_fail-restartnone.json\t\n",
      "8.\truntimes/CP-chuffed-sb-rot-heuinput_order-restartgeom.json\t\n",
      "9.\truntimes/CP-chuffed-rot-heudom_w_deg-restartnone.json\t\n",
      "10.\truntimes/CP-chuffed-sb-rot-heudom_w_deg-restartnone.json\t\n",
      "11.\truntimes/CP-chuffed-sb-rot-heuinput_order-restartnone.json\t\n",
      "12.\truntimes/CP-chuffed-heuinput_order-restartnone.json\t\n",
      "13.\truntimes/CP-chuffed-rot-heudom_w_deg-restartgeom.json\t\n",
      "14.\truntimes/CP-chuffed-sb-heuinput_order-restartnone.json\t\n",
      "15.\truntimes/CP-chuffed-rot-heuinput_order-restartgeom.json\t\n",
      "16.\truntimes/CP-chuffed-heudom_w_deg-restartgeom.json\t\n",
      "17.\truntimes/CP-chuffed-sb-rot-heufirst_fail-restartgeom.json\t\n",
      "18.\truntimes/CP-chuffed-heufirst_fail-restartgeom.json\t\n",
      "19.\truntimes/CP-chuffed-sb-rot-heudom_w_deg-restartgeom.json\t\n",
      "20.\truntimes/CP-chuffed-heudom_w_deg-restartnone.json\t\n",
      "21.\truntimes/CP-chuffed-rot-heufirst_fail-restartgeom.json\t\n",
      "22.\truntimes/CP-chuffed-sb-heudom_w_deg-restartgeom.json\t\n",
      "23.\truntimes/CP-chuffed-sb-heuinput_order-restartgeom.json\t\n",
      "\n",
      "\n",
      "Gecode Runtimes:\n",
      "\n",
      "0.\truntimes/CP-gecode-rot-heuinput_order-restartnone.json\n",
      "1.\truntimes/CP-gecode-heudom_w_deg-restartnone.json\n",
      "2.\truntimes/CP-gecode-sb-heudom_w_deg-restartnone.json\n",
      "3.\truntimes/CP-gecode-rot-heudom_w_deg-restartnone.json\n",
      "4.\truntimes/CP-gecode-sb-rot-heudom_w_deg-restartnone.json\n",
      "5.\truntimes/CP-gecode-heuinput_order-restartnone.json\n",
      "6.\truntimes/CP-gecode-rot-heufirst_fail-restartnone.json\n",
      "7.\truntimes/CP-gecode-sb-rot-heufirst_fail-restartnone.json\n",
      "8.\truntimes/CP-gecode-sb-heufirst_fail-restartnone.json\n",
      "9.\truntimes/CP-gecode-sb-rot-heuinput_order-restartnone.json\n",
      "10.\truntimes/CP-gecode-heufirst_fail-restartnone.json\n",
      "11.\truntimes/CP-gecode-sb-heuinput_order-restartnone.json\n",
      "\n",
      "Mean of all runtimes obtained with Gecode solver:\t180.37365304487182\n",
      "Mean of all runtimes obtained with Chuffed solver:\t119.85115103750003\n"
     ]
    }
   ],
   "source": [
    "#get runtimes:\n",
    "chuffed_file_names = glob('runtimes/CP-chuffed-*.json')\n",
    "gecode_file_names = glob('runtimes/CP-gecode-*.json')\n",
    "\n",
    "print(\"\\n\\nChuffed Runtimes:\\n\")\n",
    "for i in range(len(chuffed_file_names)):\n",
    "    print(f\"{i}.\\t{chuffed_file_names[i]}\\t\")\n",
    "\n",
    "print(\"\\n\\nGecode Runtimes:\\n\")\n",
    "for i in range(len(gecode_file_names)):\n",
    "    print(f\"{i}.\\t{gecode_file_names[i]}\")\n",
    "\n",
    "gecode_mean = generate_mean(gecode_file_names)\n",
    "print(f\"\\nMean of all runtimes obtained with Gecode solver:\\t{gecode_mean}\")\n",
    "\n",
    "chuffed_mean = generate_mean(chuffed_file_names)\n",
    "print(f\"Mean of all runtimes obtained with Chuffed solver:\\t{chuffed_mean}\")\n"
   ]
  },
  {
   "cell_type": "code",
   "execution_count": null,
   "id": "4e76a022",
   "metadata": {},
   "outputs": [],
   "source": []
  },
  {
   "cell_type": "code",
   "execution_count": 54,
   "id": "af9405c5",
   "metadata": {},
   "outputs": [
    {
     "name": "stdout",
     "output_type": "stream",
     "text": [
      "runtimes/CP-chuffed-heudom_w_deg-restartgeom.json.\t29\t11.787137931034483\n",
      "\n",
      "runtimes/CP-chuffed-heudom_w_deg-restartnone.json.\t33\t16.439909090909094\n",
      "\n",
      "runtimes/CP-chuffed-heufirst_fail-restartgeom.json.\t30\t17.172633333333334\n",
      "\n",
      "runtimes/CP-chuffed-heufirst_fail-restartnone.json.\t33\t15.548545454545454\n",
      "\n",
      "runtimes/CP-chuffed-heuinput_order-restartgeom.json.\t30\t15.900466666666667\n",
      "\n",
      "runtimes/CP-chuffed-heuinput_order-restartnone.json.\t34\t19.564735294117646\n",
      "\n",
      "runtimes/CP-chuffed-rot-heudom_w_deg-restartgeom.json.\t17\t12.454117647058823\n",
      "\n",
      "runtimes/CP-chuffed-rot-heudom_w_deg-restartnone.json.\t24\t32.93383325\n",
      "\n",
      "runtimes/CP-chuffed-rot-heufirst_fail-restartgeom.json.\t19\t32.36615784210527\n",
      "\n",
      "runtimes/CP-chuffed-rot-heufirst_fail-restartnone.json.\t24\t33.08670833333334\n",
      "\n",
      "runtimes/CP-chuffed-rot-heuinput_order-restartgeom.json.\t19\t32.58473678947369\n",
      "\n",
      "runtimes/CP-chuffed-rot-heuinput_order-restartnone.json.\t24\t24.443583333333333\n",
      "\n",
      "runtimes/CP-chuffed-sb-heudom_w_deg-restartgeom.json.\t29\t13.45758620689655\n",
      "\n",
      "runtimes/CP-chuffed-sb-heudom_w_deg-restartnone.json.\t34\t27.007500000000004\n",
      "\n",
      "runtimes/CP-chuffed-sb-heufirst_fail-restartgeom.json.\t30\t17.526633333333333\n",
      "\n",
      "runtimes/CP-chuffed-sb-heufirst_fail-restartnone.json.\t34\t27.12423529411765\n",
      "\n",
      "runtimes/CP-chuffed-sb-heuinput_order-restartgeom.json.\t30\t17.4926\n",
      "\n",
      "runtimes/CP-chuffed-sb-heuinput_order-restartnone.json.\t34\t19.34435294117647\n",
      "\n",
      "runtimes/CP-chuffed-sb-rot-heudom_w_deg-restartgeom.json.\t18\t26.545055555555553\n",
      "\n",
      "runtimes/CP-chuffed-sb-rot-heudom_w_deg-restartnone.json.\t20\t16.5239\n",
      "\n",
      "runtimes/CP-chuffed-sb-rot-heufirst_fail-restartgeom.json.\t18\t20.728722222222224\n",
      "\n",
      "runtimes/CP-chuffed-sb-rot-heufirst_fail-restartnone.json.\t19\t12.985315789473685\n",
      "\n",
      "runtimes/CP-chuffed-sb-rot-heuinput_order-restartgeom.json.\t18\t29.75494444444444\n",
      "\n",
      "runtimes/CP-chuffed-sb-rot-heuinput_order-restartnone.json.\t19\t9.609947368421052\n",
      "\n"
     ]
    }
   ],
   "source": [
    "file_names = glob('runtimes/CP-chuffed-*.json')\n",
    "\n",
    "solved_instances = {}\n",
    "keys = []\n",
    "values = []\n",
    "averages = []\n",
    "\n",
    "for i in range(len(file_names)):\n",
    "    \n",
    "    runlist = load_json(file_names[i]) \n",
    "    runtimes = [value for value in runlist if value < 300]\n",
    "    \n",
    "    values.append(len(runtimes))\n",
    "    keys.append(file_names[i])\n",
    "    averages.append(sum(runtimes)/len(runtimes))\n",
    "\n",
    "solved_instances = {k: v for k, v in zip(keys, values)}\n",
    "solved_instances_mean = {k: v for k, v in zip(keys, averages)}\n",
    "\n",
    "\n",
    "for i in sorted(solved_instances.keys()):\n",
    "    print(f\"{i}.\\t{solved_instances[i]}\\t{solved_instances_mean[i]}\\n\")"
   ]
  },
  {
   "cell_type": "markdown",
   "id": "223a9d44",
   "metadata": {},
   "source": [
    "### Without Rotation"
   ]
  },
  {
   "cell_type": "code",
   "execution_count": 70,
   "id": "otherwise-garbage",
   "metadata": {
    "tags": []
   },
   "outputs": [
    {
     "ename": "FileNotFoundError",
     "evalue": "[Errno 2] No such file or directory: 'runtimes/CP.json'",
     "output_type": "error",
     "traceback": [
      "\u001b[0;31m---------------------------------------------------------------------------\u001b[0m",
      "\u001b[0;31mFileNotFoundError\u001b[0m                         Traceback (most recent call last)",
      "\u001b[0;32m/tmp/ipykernel_19970/1543654209.py\u001b[0m in \u001b[0;36m<module>\u001b[0;34m\u001b[0m\n\u001b[1;32m      1\u001b[0m \u001b[0mw\u001b[0m \u001b[0;34m=\u001b[0m \u001b[0;36m0.4\u001b[0m\u001b[0;34m\u001b[0m\u001b[0;34m\u001b[0m\u001b[0m\n\u001b[0;32m----> 2\u001b[0;31m \u001b[0mbaseline\u001b[0m \u001b[0;34m=\u001b[0m \u001b[0mload_json\u001b[0m\u001b[0;34m(\u001b[0m\u001b[0;34m'runtimes/CP.json'\u001b[0m\u001b[0;34m)\u001b[0m\u001b[0;34m\u001b[0m\u001b[0;34m\u001b[0m\u001b[0m\n\u001b[0m\u001b[1;32m      3\u001b[0m \u001b[0mno_area\u001b[0m \u001b[0;34m=\u001b[0m \u001b[0mload_json\u001b[0m\u001b[0;34m(\u001b[0m\u001b[0;34m'runtimes/CP-sb.json'\u001b[0m\u001b[0;34m)\u001b[0m\u001b[0;34m\u001b[0m\u001b[0;34m\u001b[0m\u001b[0m\n\u001b[1;32m      4\u001b[0m \u001b[0mbl_done\u001b[0m \u001b[0;34m=\u001b[0m \u001b[0mnp\u001b[0m\u001b[0;34m.\u001b[0m\u001b[0margwhere\u001b[0m\u001b[0;34m(\u001b[0m\u001b[0mbaseline\u001b[0m \u001b[0;34m<\u001b[0m \u001b[0;36m300\u001b[0m\u001b[0;34m)\u001b[0m\u001b[0;34m.\u001b[0m\u001b[0msqueeze\u001b[0m\u001b[0;34m(\u001b[0m\u001b[0;34m)\u001b[0m\u001b[0;34m\u001b[0m\u001b[0;34m\u001b[0m\u001b[0m\n\u001b[1;32m      5\u001b[0m \u001b[0mna_done\u001b[0m \u001b[0;34m=\u001b[0m \u001b[0mnp\u001b[0m\u001b[0;34m.\u001b[0m\u001b[0margwhere\u001b[0m\u001b[0;34m(\u001b[0m\u001b[0mno_area\u001b[0m \u001b[0;34m<\u001b[0m \u001b[0;36m300\u001b[0m\u001b[0;34m)\u001b[0m\u001b[0;34m.\u001b[0m\u001b[0msqueeze\u001b[0m\u001b[0;34m(\u001b[0m\u001b[0;34m)\u001b[0m\u001b[0;34m\u001b[0m\u001b[0;34m\u001b[0m\u001b[0m\n",
      "\u001b[0;32m/tmp/ipykernel_19970/2856661244.py\u001b[0m in \u001b[0;36mload_json\u001b[0;34m(name)\u001b[0m\n\u001b[1;32m      1\u001b[0m \u001b[0;31m#get values:\u001b[0m\u001b[0;34m\u001b[0m\u001b[0;34m\u001b[0m\u001b[0m\n\u001b[1;32m      2\u001b[0m \u001b[0;32mdef\u001b[0m \u001b[0mload_json\u001b[0m\u001b[0;34m(\u001b[0m\u001b[0mname\u001b[0m\u001b[0;34m)\u001b[0m\u001b[0;34m:\u001b[0m\u001b[0;34m\u001b[0m\u001b[0;34m\u001b[0m\u001b[0m\n\u001b[0;32m----> 3\u001b[0;31m     \u001b[0;32mwith\u001b[0m \u001b[0mopen\u001b[0m\u001b[0;34m(\u001b[0m\u001b[0mname\u001b[0m\u001b[0;34m)\u001b[0m \u001b[0;32mas\u001b[0m \u001b[0mf\u001b[0m\u001b[0;34m:\u001b[0m\u001b[0;34m\u001b[0m\u001b[0;34m\u001b[0m\u001b[0m\n\u001b[0m\u001b[1;32m      4\u001b[0m         \u001b[0mdata\u001b[0m \u001b[0;34m=\u001b[0m \u001b[0mnp\u001b[0m\u001b[0;34m.\u001b[0m\u001b[0marray\u001b[0m\u001b[0;34m(\u001b[0m\u001b[0;34m[\u001b[0m\u001b[0mv\u001b[0m \u001b[0;32mfor\u001b[0m \u001b[0mv\u001b[0m \u001b[0;32min\u001b[0m \u001b[0mjson\u001b[0m\u001b[0;34m.\u001b[0m\u001b[0mload\u001b[0m\u001b[0;34m(\u001b[0m\u001b[0mf\u001b[0m\u001b[0;34m)\u001b[0m\u001b[0;34m.\u001b[0m\u001b[0mvalues\u001b[0m\u001b[0;34m(\u001b[0m\u001b[0;34m)\u001b[0m\u001b[0;34m]\u001b[0m\u001b[0;34m)\u001b[0m\u001b[0;34m\u001b[0m\u001b[0;34m\u001b[0m\u001b[0m\n\u001b[1;32m      5\u001b[0m     \u001b[0;32mreturn\u001b[0m \u001b[0mdata\u001b[0m\u001b[0;34m\u001b[0m\u001b[0;34m\u001b[0m\u001b[0m\n",
      "\u001b[0;31mFileNotFoundError\u001b[0m: [Errno 2] No such file or directory: 'runtimes/CP.json'"
     ]
    }
   ],
   "source": [
    "w = 0.4\n",
    "baseline = load_json('runtimes/CP.json')\n",
    "no_area = load_json('runtimes/CP-sb.json')\n",
    "bl_done = np.argwhere(baseline < 300).squeeze()\n",
    "na_done = np.argwhere(no_area < 300).squeeze() \n",
    "bl_timeout = np.argwhere(baseline >= 300).squeeze()\n",
    "na_timeout = np.argwhere(no_area >= 300).squeeze()\n",
    "\n",
    "fig, ax = plt.subplots(1, 1, figsize=(15, 9))\n",
    "r1 = ax.bar(bl_done + (w/2) + 1, baseline[bl_done], width=w, color='C0', align='center', \n",
    "            label='Baseline')\n",
    "r2 = ax.bar(na_done - (w/2) + 1, no_area[na_done], width=w, color='C1', align='center', \n",
    "            label='Symmetry breaking')\n",
    "r3 = ax.bar(bl_timeout + (w/2) + 1, baseline[bl_timeout], width=w, color='C0', \n",
    "            hatch='//', alpha=0.3, align='center')\n",
    "r4 = ax.bar(na_timeout - (w/2) + 1, no_area[na_timeout], width=w, color='C1', \n",
    "            hatch='//', alpha=0.3, align='center')\n",
    "\n",
    "table = make_table([baseline, no_area], bbox=(0.05, 0.75, 0.17, 0.17))\n",
    "\n",
    "ax.set_xlabel('instances')\n",
    "ax.set_ylabel('time (s)')\n",
    "ax.set_xlim(0, 41)\n",
    "ax.set_xticks(list(range(1, 41)))\n",
    "ax.legend()\n",
    "ax.set_yscale('log')\n",
    "ax.set_yticks([0.1, 1, 10, 60, 150, 300])\n",
    "ax.get_yaxis().set_major_formatter(ScalarFormatter())\n",
    "ax.grid(axis='y')\n",
    "if savefig:\n",
    "    fig.savefig('Plots_Images/CP_NoRotation')\n",
    "plt.show()"
   ]
  },
  {
   "cell_type": "markdown",
   "id": "66756d00",
   "metadata": {},
   "source": [
    "### With Rotation"
   ]
  },
  {
   "cell_type": "code",
   "execution_count": 56,
   "id": "84487e4e",
   "metadata": {},
   "outputs": [
    {
     "ename": "FileNotFoundError",
     "evalue": "[Errno 2] No such file or directory: 'runtimes/CP-rot.json'",
     "output_type": "error",
     "traceback": [
      "\u001b[0;31m---------------------------------------------------------------------------\u001b[0m",
      "\u001b[0;31mFileNotFoundError\u001b[0m                         Traceback (most recent call last)",
      "\u001b[0;32m/tmp/ipykernel_19970/3675630144.py\u001b[0m in \u001b[0;36m<module>\u001b[0;34m\u001b[0m\n\u001b[1;32m      1\u001b[0m \u001b[0mw\u001b[0m \u001b[0;34m=\u001b[0m \u001b[0;36m0.4\u001b[0m\u001b[0;34m\u001b[0m\u001b[0;34m\u001b[0m\u001b[0m\n\u001b[0;32m----> 2\u001b[0;31m \u001b[0mbaseline\u001b[0m \u001b[0;34m=\u001b[0m \u001b[0mload_json\u001b[0m\u001b[0;34m(\u001b[0m\u001b[0;34m'runtimes/CP-rot.json'\u001b[0m\u001b[0;34m)\u001b[0m\u001b[0;34m\u001b[0m\u001b[0;34m\u001b[0m\u001b[0m\n\u001b[0m\u001b[1;32m      3\u001b[0m \u001b[0mno_area\u001b[0m \u001b[0;34m=\u001b[0m \u001b[0mload_json\u001b[0m\u001b[0;34m(\u001b[0m\u001b[0;34m'runtimes/CP-sb-rot.json'\u001b[0m\u001b[0;34m)\u001b[0m\u001b[0;34m\u001b[0m\u001b[0;34m\u001b[0m\u001b[0m\n\u001b[1;32m      4\u001b[0m \u001b[0mbl_done\u001b[0m \u001b[0;34m=\u001b[0m \u001b[0mnp\u001b[0m\u001b[0;34m.\u001b[0m\u001b[0margwhere\u001b[0m\u001b[0;34m(\u001b[0m\u001b[0mbaseline\u001b[0m \u001b[0;34m<\u001b[0m \u001b[0;36m300\u001b[0m\u001b[0;34m)\u001b[0m\u001b[0;34m.\u001b[0m\u001b[0msqueeze\u001b[0m\u001b[0;34m(\u001b[0m\u001b[0;34m)\u001b[0m\u001b[0;34m\u001b[0m\u001b[0;34m\u001b[0m\u001b[0m\n\u001b[1;32m      5\u001b[0m \u001b[0mna_done\u001b[0m \u001b[0;34m=\u001b[0m \u001b[0mnp\u001b[0m\u001b[0;34m.\u001b[0m\u001b[0margwhere\u001b[0m\u001b[0;34m(\u001b[0m\u001b[0mno_area\u001b[0m \u001b[0;34m<\u001b[0m \u001b[0;36m300\u001b[0m\u001b[0;34m)\u001b[0m\u001b[0;34m.\u001b[0m\u001b[0msqueeze\u001b[0m\u001b[0;34m(\u001b[0m\u001b[0;34m)\u001b[0m\u001b[0;34m\u001b[0m\u001b[0;34m\u001b[0m\u001b[0m\n",
      "\u001b[0;32m/tmp/ipykernel_19970/2856661244.py\u001b[0m in \u001b[0;36mload_json\u001b[0;34m(name)\u001b[0m\n\u001b[1;32m      1\u001b[0m \u001b[0;31m#get values:\u001b[0m\u001b[0;34m\u001b[0m\u001b[0;34m\u001b[0m\u001b[0m\n\u001b[1;32m      2\u001b[0m \u001b[0;32mdef\u001b[0m \u001b[0mload_json\u001b[0m\u001b[0;34m(\u001b[0m\u001b[0mname\u001b[0m\u001b[0;34m)\u001b[0m\u001b[0;34m:\u001b[0m\u001b[0;34m\u001b[0m\u001b[0;34m\u001b[0m\u001b[0m\n\u001b[0;32m----> 3\u001b[0;31m     \u001b[0;32mwith\u001b[0m \u001b[0mopen\u001b[0m\u001b[0;34m(\u001b[0m\u001b[0mname\u001b[0m\u001b[0;34m)\u001b[0m \u001b[0;32mas\u001b[0m \u001b[0mf\u001b[0m\u001b[0;34m:\u001b[0m\u001b[0;34m\u001b[0m\u001b[0;34m\u001b[0m\u001b[0m\n\u001b[0m\u001b[1;32m      4\u001b[0m         \u001b[0mdata\u001b[0m \u001b[0;34m=\u001b[0m \u001b[0mnp\u001b[0m\u001b[0;34m.\u001b[0m\u001b[0marray\u001b[0m\u001b[0;34m(\u001b[0m\u001b[0;34m[\u001b[0m\u001b[0mv\u001b[0m \u001b[0;32mfor\u001b[0m \u001b[0mv\u001b[0m \u001b[0;32min\u001b[0m \u001b[0mjson\u001b[0m\u001b[0;34m.\u001b[0m\u001b[0mload\u001b[0m\u001b[0;34m(\u001b[0m\u001b[0mf\u001b[0m\u001b[0;34m)\u001b[0m\u001b[0;34m.\u001b[0m\u001b[0mvalues\u001b[0m\u001b[0;34m(\u001b[0m\u001b[0;34m)\u001b[0m\u001b[0;34m]\u001b[0m\u001b[0;34m)\u001b[0m\u001b[0;34m\u001b[0m\u001b[0;34m\u001b[0m\u001b[0m\n\u001b[1;32m      5\u001b[0m     \u001b[0;32mreturn\u001b[0m \u001b[0mdata\u001b[0m\u001b[0;34m\u001b[0m\u001b[0;34m\u001b[0m\u001b[0m\n",
      "\u001b[0;31mFileNotFoundError\u001b[0m: [Errno 2] No such file or directory: 'runtimes/CP-rot.json'"
     ]
    }
   ],
   "source": [
    "w = 0.4\n",
    "baseline = load_json('runtimes/CP-rot.json')\n",
    "no_area = load_json('runtimes/CP-sb-rot.json')\n",
    "bl_done = np.argwhere(baseline < 300).squeeze()\n",
    "na_done = np.argwhere(no_area < 300).squeeze() \n",
    "bl_timeout = np.argwhere(baseline >= 300).squeeze()\n",
    "na_timeout = np.argwhere(no_area >= 300).squeeze()\n",
    "\n",
    "fig, ax = plt.subplots(1, 1, figsize=(15, 9))\n",
    "r1 = ax.bar(bl_done + (w/2) + 1, baseline[bl_done], width=w, color='C0', align='center', \n",
    "            label='Baseline')\n",
    "r2 = ax.bar(na_done - (w/2) + 1, no_area[na_done], width=w, color='C1', align='center', \n",
    "            label='Symmetry breaking')\n",
    "r3 = ax.bar(bl_timeout + (w/2) + 1, baseline[bl_timeout], width=w, color='C0', \n",
    "            hatch='//', alpha=0.3, align='center')\n",
    "r4 = ax.bar(na_timeout - (w/2) + 1, no_area[na_timeout], width=w, color='C1', \n",
    "            hatch='//', alpha=0.3, align='center')\n",
    "\n",
    "table = make_table([baseline, no_area], bbox=(0.05, 0.75, 0.17, 0.17))\n",
    "\n",
    "ax.set_xlabel('instances')\n",
    "ax.set_ylabel('time (s)')\n",
    "ax.set_xlim(0, 41)\n",
    "ax.set_xticks(list(range(1, 41)))\n",
    "ax.legend()\n",
    "ax.set_yscale('log')\n",
    "ax.set_yticks([0.1, 1, 10, 60, 150, 300])\n",
    "ax.get_yaxis().set_major_formatter(ScalarFormatter())\n",
    "ax.grid(axis='y')\n",
    "if savefig:\n",
    "    fig.savefig('Plots_Images/CP_Rotation')\n",
    "plt.show()"
   ]
  },
  {
   "cell_type": "code",
   "execution_count": 92,
   "id": "4876e460",
   "metadata": {},
   "outputs": [
    {
     "data": {
      "image/png": "[encoded data removed]",
      "text/plain": [
       "<Figure size 1600x900 with 1 Axes>"
      ]
     },
     "metadata": {},
     "output_type": "display_data"
    }
   ],
   "source": [
    "w = 0.4\n",
    "fig, ax = plt.subplots(1, 1, figsize=(16, 9))\n",
    "\n",
    "#non rotation:\n",
    "best_nonrot = load_json(f'runtimes/CP-chuffed-heuinput_order-restartnone.json')\n",
    "bnr_done = np.argwhere(best_nonrot < 300).squeeze()\n",
    "bnr_timeout = np.argwhere(best_nonrot >= 300).squeeze()\n",
    "\n",
    "#symmetry breaking non rotation:\n",
    "best_sb_nonrot = load_json(f'runtimes/CP-chuffed-sb-heuinput_order-restartnone.json')\n",
    "bsbnr_done = np.argwhere(best_sb_nonrot < 300).squeeze()\n",
    "bsbnr_timeout = np.argwhere(best_sb_nonrot >= 300).squeeze()\n",
    "\n",
    "#rotation:\n",
    "best_rot = load_json(f'runtimes/CP-chuffed-rot-heudom_w_deg-restartnone.json')\n",
    "br_done = np.argwhere(best_rot < 300).squeeze()\n",
    "br_timeout = np.argwhere(best_rot >= 300).squeeze()\n",
    "\n",
    "#symmetry breaking rotation:\n",
    "best_sb_rot = load_json(f'runtimes/CP-chuffed-sb-rot-heudom_w_deg-restartnone.json')\n",
    "bsbr_done = np.argwhere(best_sb_rot < 300).squeeze()\n",
    "bsbr_timeout = np.argwhere(best_sb_rot >= 300).squeeze()\n",
    "\n",
    "#flip rotation bars:\n",
    "best_rot *= -1\n",
    "#br_done *= -1\n",
    "#br_timeout *= -1\n",
    "best_sb_rot *= -1\n",
    "#bsbr_done *= -1\n",
    "#bsbr_timeout *= -1\n",
    "\n",
    "#***NON ROTATION***:\n",
    "\n",
    "#non rotation non sb finished before 300:\n",
    "r1 = ax.bar(bnr_done + (w/2) + 1, best_nonrot[bnr_done], width=w, color='C0', align='center', \n",
    "            label=f'{\"Best non rotation non sb\"}')\n",
    "\n",
    "#non rotation non sb finished after 300:\n",
    "r2 = ax.bar(bnr_timeout + (w/2) + 1, best_nonrot[bnr_timeout], width=w, color='C0', align='center',\n",
    "           alpha = 0.5, hatch = '/')\n",
    "\n",
    "#non rotation sb finished before 300:\n",
    "r3 = ax.bar(bsbnr_done - (w/2) + 1, best_sb_nonrot[bsbnr_done], width=w, color='C1', align='center', \n",
    "            label=f'{\"Best non rotation sb\"}')\n",
    "\n",
    "#non rotation sb finished after 300:\n",
    "r4 = ax.bar(bsbnr_timeout - (w/2) + 1, best_sb_nonrot[bsbnr_timeout], width=w, color='C1', align='center',\n",
    "           alpha = 0.5, hatch = '/')\n",
    "\n",
    "#***ROTATION***:\n",
    "\n",
    "#rotation non sb finished before 300:\n",
    "r5 = ax.bar(br_done + (w/2) + 1, best_rot[br_done], width=w, color='C2', align='center', \n",
    "            label=f'{\"Best rotation non sb\"}')\n",
    "\n",
    "#rotation non sb finished after 300:\n",
    "r6 = ax.bar(br_timeout + (w/2) + 1, best_rot[br_timeout], width=w, color='C2', align='center',\n",
    "           alpha = 0.5, hatch = '/')\n",
    "\n",
    "#rotation sb finished before 300:\n",
    "r7 = ax.bar(bsbr_done - (w/2) + 1, best_sb_rot[bsbr_done], width=w, color='C3', align='center', \n",
    "            label=f'{\"Best rotation sb \"}')\n",
    "\n",
    "#rotation sb finished after 300:\n",
    "r8 = ax.bar(bsbr_timeout - (w/2) + 1, best_sb_rot[bsbr_timeout], width=w, color='C3', align='center',\n",
    "           alpha = 0.5, hatch = '/')\n",
    "\n",
    "\n",
    "ax.set_xlabel('instances')\n",
    "ax.set_ylabel('time (s)')\n",
    "ax.set_xlim(0, 41)\n",
    "ax.set_ylim(-400, 400)\n",
    "#ax.set_xticks(list(range(1, 41)))\n",
    "ax.legend()\n",
    "ax.set_yscale('symlog')\n",
    "ax.set_yticks([-300, -150, -60, -10, -1, -0.2, 0, 0.2, 1, 10, 60, 150, 300])\n",
    "ax.get_yaxis().set_major_formatter(ScalarFormatter())\n",
    "ax.set_yticklabels([300, 150, 60, 10, 1, 0.2, '', 0.2, 1, 10, 60, 150, 300])\n",
    "ax.grid(axis='y')\n",
    "\n",
    "if savefig:\n",
    "    fig.savefig('SAT_search_and_rot')\n",
    "plt.show()"
   ]
  },
  {
   "cell_type": "markdown",
   "id": "57cf0b82",
   "metadata": {},
   "source": [
    "# LE PROSSIME DUE CELLE NON SO COSA SIANO PERCHÉ NON HO I RUNTIMES"
   ]
  },
  {
   "cell_type": "code",
   "execution_count": 57,
   "id": "automated-printing",
   "metadata": {
    "tags": []
   },
   "outputs": [
    {
     "ename": "FileNotFoundError",
     "evalue": "[Errno 2] No such file or directory: 'timings/CP-a-dual-heu0-restart1.json'",
     "output_type": "error",
     "traceback": [
      "\u001b[0;31m---------------------------------------------------------------------------\u001b[0m",
      "\u001b[0;31mFileNotFoundError\u001b[0m                         Traceback (most recent call last)",
      "\u001b[0;32m/tmp/ipykernel_19970/1532937363.py\u001b[0m in \u001b[0;36m<module>\u001b[0;34m\u001b[0m\n\u001b[0;32m----> 1\u001b[0;31m \u001b[0mdual\u001b[0m \u001b[0;34m=\u001b[0m \u001b[0mload_json\u001b[0m\u001b[0;34m(\u001b[0m\u001b[0;34m'timings/CP-a-dual-heu0-restart1.json'\u001b[0m\u001b[0;34m)\u001b[0m\u001b[0;34m\u001b[0m\u001b[0;34m\u001b[0m\u001b[0m\n\u001b[0m\u001b[1;32m      2\u001b[0m \u001b[0;34m\u001b[0m\u001b[0m\n\u001b[1;32m      3\u001b[0m \u001b[0mw\u001b[0m \u001b[0;34m=\u001b[0m \u001b[0;36m0.4\u001b[0m\u001b[0;34m\u001b[0m\u001b[0;34m\u001b[0m\u001b[0m\n\u001b[1;32m      4\u001b[0m \u001b[0;34m\u001b[0m\u001b[0m\n\u001b[1;32m      5\u001b[0m \u001b[0mbl_done\u001b[0m \u001b[0;34m=\u001b[0m \u001b[0mnp\u001b[0m\u001b[0;34m.\u001b[0m\u001b[0margwhere\u001b[0m\u001b[0;34m(\u001b[0m\u001b[0mbaseline\u001b[0m \u001b[0;34m<\u001b[0m \u001b[0;36m300\u001b[0m\u001b[0;34m)\u001b[0m\u001b[0;34m.\u001b[0m\u001b[0msqueeze\u001b[0m\u001b[0;34m(\u001b[0m\u001b[0;34m)\u001b[0m\u001b[0;34m\u001b[0m\u001b[0;34m\u001b[0m\u001b[0m\n",
      "\u001b[0;32m/tmp/ipykernel_19970/2856661244.py\u001b[0m in \u001b[0;36mload_json\u001b[0;34m(name)\u001b[0m\n\u001b[1;32m      1\u001b[0m \u001b[0;31m#get values:\u001b[0m\u001b[0;34m\u001b[0m\u001b[0;34m\u001b[0m\u001b[0m\n\u001b[1;32m      2\u001b[0m \u001b[0;32mdef\u001b[0m \u001b[0mload_json\u001b[0m\u001b[0;34m(\u001b[0m\u001b[0mname\u001b[0m\u001b[0;34m)\u001b[0m\u001b[0;34m:\u001b[0m\u001b[0;34m\u001b[0m\u001b[0;34m\u001b[0m\u001b[0m\n\u001b[0;32m----> 3\u001b[0;31m     \u001b[0;32mwith\u001b[0m \u001b[0mopen\u001b[0m\u001b[0;34m(\u001b[0m\u001b[0mname\u001b[0m\u001b[0;34m)\u001b[0m \u001b[0;32mas\u001b[0m \u001b[0mf\u001b[0m\u001b[0;34m:\u001b[0m\u001b[0;34m\u001b[0m\u001b[0;34m\u001b[0m\u001b[0m\n\u001b[0m\u001b[1;32m      4\u001b[0m         \u001b[0mdata\u001b[0m \u001b[0;34m=\u001b[0m \u001b[0mnp\u001b[0m\u001b[0;34m.\u001b[0m\u001b[0marray\u001b[0m\u001b[0;34m(\u001b[0m\u001b[0;34m[\u001b[0m\u001b[0mv\u001b[0m \u001b[0;32mfor\u001b[0m \u001b[0mv\u001b[0m \u001b[0;32min\u001b[0m \u001b[0mjson\u001b[0m\u001b[0;34m.\u001b[0m\u001b[0mload\u001b[0m\u001b[0;34m(\u001b[0m\u001b[0mf\u001b[0m\u001b[0;34m)\u001b[0m\u001b[0;34m.\u001b[0m\u001b[0mvalues\u001b[0m\u001b[0;34m(\u001b[0m\u001b[0;34m)\u001b[0m\u001b[0;34m]\u001b[0m\u001b[0;34m)\u001b[0m\u001b[0;34m\u001b[0m\u001b[0;34m\u001b[0m\u001b[0m\n\u001b[1;32m      5\u001b[0m     \u001b[0;32mreturn\u001b[0m \u001b[0mdata\u001b[0m\u001b[0;34m\u001b[0m\u001b[0;34m\u001b[0m\u001b[0m\n",
      "\u001b[0;31mFileNotFoundError\u001b[0m: [Errno 2] No such file or directory: 'timings/CP-a-dual-heu0-restart1.json'"
     ]
    }
   ],
   "source": [
    "dual = load_json('timings/CP-a-dual-heu0-restart1.json')\n",
    "\n",
    "w = 0.4\n",
    "\n",
    "bl_done = np.argwhere(baseline < 300).squeeze()\n",
    "dual_done = np.argwhere(dual < 300).squeeze() \n",
    "bl_timeout = np.argwhere(baseline >= 300).squeeze()\n",
    "dual_timeout = np.argwhere(dual >= 300).squeeze()\n",
    "\n",
    "fig, ax = plt.subplots(1, 1, figsize=(15, 9))\n",
    "r1 = ax.bar(bl_done + (w/2) + 1, baseline[bl_done], width=w, color='C0', align='center', \n",
    "            label=f'Baseline')\n",
    "r2 = ax.bar(dual_done - (w/2) + 1, dual[dual_done], width=w, color='C1', align='center', \n",
    "            label=f'Dual model')\n",
    "r3 = ax.bar(bl_timeout + (w/2) + 1, baseline[bl_timeout], width=w, color='C0', hatch='//', alpha=0.3, align='center')\n",
    "r4 = ax.bar(dual_timeout - (w/2) + 1, dual[dual_timeout], width=w, color='C1', hatch='//', alpha=0.3, align='center')\n",
    "\n",
    "table = make_table([baseline, dual])\n",
    "\n",
    "ax.set_xlabel('instances')\n",
    "ax.set_ylabel('time (s)')\n",
    "ax.set_xlim(0, 41)\n",
    "ax.set_xticks(list(range(1, 41)))\n",
    "ax.legend()\n",
    "ax.set_yscale('log')\n",
    "ax.set_yticks([0.1, 1, 10, 60, 150, 300])\n",
    "ax.get_yaxis().set_major_formatter(ScalarFormatter())\n",
    "ax.grid(axis='y')\n",
    "if savefig:\n",
    "    fig.savefig('CP_dual')\n",
    "plt.show()"
   ]
  },
  {
   "cell_type": "code",
   "execution_count": 58,
   "id": "premier-riding",
   "metadata": {
    "tags": []
   },
   "outputs": [
    {
     "ename": "FileNotFoundError",
     "evalue": "[Errno 2] No such file or directory: 'timings/CP-a-heu0-restart0.json'",
     "output_type": "error",
     "traceback": [
      "\u001b[0;31m---------------------------------------------------------------------------\u001b[0m",
      "\u001b[0;31mFileNotFoundError\u001b[0m                         Traceback (most recent call last)",
      "\u001b[0;32m/tmp/ipykernel_19970/3042255013.py\u001b[0m in \u001b[0;36m<module>\u001b[0;34m\u001b[0m\n\u001b[1;32m      4\u001b[0m     \u001b[0mfig\u001b[0m\u001b[0;34m,\u001b[0m \u001b[0max\u001b[0m \u001b[0;34m=\u001b[0m \u001b[0mplt\u001b[0m\u001b[0;34m.\u001b[0m\u001b[0msubplots\u001b[0m\u001b[0;34m(\u001b[0m\u001b[0;36m1\u001b[0m\u001b[0;34m,\u001b[0m \u001b[0;36m1\u001b[0m\u001b[0;34m,\u001b[0m \u001b[0mfigsize\u001b[0m\u001b[0;34m=\u001b[0m\u001b[0;34m(\u001b[0m\u001b[0;36m16\u001b[0m\u001b[0;34m,\u001b[0m \u001b[0;36m9\u001b[0m\u001b[0;34m)\u001b[0m\u001b[0;34m)\u001b[0m\u001b[0;34m\u001b[0m\u001b[0;34m\u001b[0m\u001b[0m\n\u001b[1;32m      5\u001b[0m     \u001b[0;32mfor\u001b[0m \u001b[0mrot\u001b[0m \u001b[0;32min\u001b[0m \u001b[0;34m(\u001b[0m\u001b[0;32mFalse\u001b[0m\u001b[0;34m,\u001b[0m \u001b[0;32mTrue\u001b[0m\u001b[0;34m)\u001b[0m\u001b[0;34m:\u001b[0m\u001b[0;34m\u001b[0m\u001b[0;34m\u001b[0m\u001b[0m\n\u001b[0;32m----> 6\u001b[0;31m         \u001b[0mrestart0\u001b[0m \u001b[0;34m=\u001b[0m \u001b[0mload_json\u001b[0m\u001b[0;34m(\u001b[0m\u001b[0;34mf'timings/CP-a{\"-rot\" if rot else \"\"}-heu{heu}-restart0.json'\u001b[0m\u001b[0;34m)\u001b[0m\u001b[0;34m\u001b[0m\u001b[0;34m\u001b[0m\u001b[0m\n\u001b[0m\u001b[1;32m      7\u001b[0m         \u001b[0mrestart1\u001b[0m \u001b[0;34m=\u001b[0m \u001b[0mload_json\u001b[0m\u001b[0;34m(\u001b[0m\u001b[0;34mf'timings/CP-a{\"-rot\" if rot else \"\"}-heu{heu}-restart1.json'\u001b[0m\u001b[0;34m)\u001b[0m\u001b[0;34m\u001b[0m\u001b[0;34m\u001b[0m\u001b[0m\n\u001b[1;32m      8\u001b[0m         \u001b[0mrestart2\u001b[0m \u001b[0;34m=\u001b[0m \u001b[0mload_json\u001b[0m\u001b[0;34m(\u001b[0m\u001b[0;34mf'timings/CP-a{\"-rot\" if rot else \"\"}-heu{heu}-restart2.json'\u001b[0m\u001b[0;34m)\u001b[0m\u001b[0;34m\u001b[0m\u001b[0;34m\u001b[0m\u001b[0m\n",
      "\u001b[0;32m/tmp/ipykernel_19970/2856661244.py\u001b[0m in \u001b[0;36mload_json\u001b[0;34m(name)\u001b[0m\n\u001b[1;32m      1\u001b[0m \u001b[0;31m#get values:\u001b[0m\u001b[0;34m\u001b[0m\u001b[0;34m\u001b[0m\u001b[0m\n\u001b[1;32m      2\u001b[0m \u001b[0;32mdef\u001b[0m \u001b[0mload_json\u001b[0m\u001b[0;34m(\u001b[0m\u001b[0mname\u001b[0m\u001b[0;34m)\u001b[0m\u001b[0;34m:\u001b[0m\u001b[0;34m\u001b[0m\u001b[0;34m\u001b[0m\u001b[0m\n\u001b[0;32m----> 3\u001b[0;31m     \u001b[0;32mwith\u001b[0m \u001b[0mopen\u001b[0m\u001b[0;34m(\u001b[0m\u001b[0mname\u001b[0m\u001b[0;34m)\u001b[0m \u001b[0;32mas\u001b[0m \u001b[0mf\u001b[0m\u001b[0;34m:\u001b[0m\u001b[0;34m\u001b[0m\u001b[0;34m\u001b[0m\u001b[0m\n\u001b[0m\u001b[1;32m      4\u001b[0m         \u001b[0mdata\u001b[0m \u001b[0;34m=\u001b[0m \u001b[0mnp\u001b[0m\u001b[0;34m.\u001b[0m\u001b[0marray\u001b[0m\u001b[0;34m(\u001b[0m\u001b[0;34m[\u001b[0m\u001b[0mv\u001b[0m \u001b[0;32mfor\u001b[0m \u001b[0mv\u001b[0m \u001b[0;32min\u001b[0m \u001b[0mjson\u001b[0m\u001b[0;34m.\u001b[0m\u001b[0mload\u001b[0m\u001b[0;34m(\u001b[0m\u001b[0mf\u001b[0m\u001b[0;34m)\u001b[0m\u001b[0;34m.\u001b[0m\u001b[0mvalues\u001b[0m\u001b[0;34m(\u001b[0m\u001b[0;34m)\u001b[0m\u001b[0;34m]\u001b[0m\u001b[0;34m)\u001b[0m\u001b[0;34m\u001b[0m\u001b[0;34m\u001b[0m\u001b[0m\n\u001b[1;32m      5\u001b[0m     \u001b[0;32mreturn\u001b[0m \u001b[0mdata\u001b[0m\u001b[0;34m\u001b[0m\u001b[0;34m\u001b[0m\u001b[0m\n",
      "\u001b[0;31mFileNotFoundError\u001b[0m: [Errno 2] No such file or directory: 'timings/CP-a-heu0-restart0.json'"
     ]
    },
    {
     "data": {
      "image/png": "[encoded data removed]",
      "text/plain": [
       "<Figure size 1600x900 with 1 Axes>"
      ]
     },
     "metadata": {},
     "output_type": "display_data"
    }
   ],
   "source": [
    "w = 0.3\n",
    "int2heu = {0: 'input_order', 1: 'dom_w_deg', 2: 'impact'}\n",
    "for heu in (0, 1, 2):\n",
    "    fig, ax = plt.subplots(1, 1, figsize=(16, 9))\n",
    "    for rot in (False, True):\n",
    "        restart0 = load_json(f'timings/CP-a{\"-rot\" if rot else \"\"}-heu{heu}-restart0.json')\n",
    "        restart1 = load_json(f'timings/CP-a{\"-rot\" if rot else \"\"}-heu{heu}-restart1.json')\n",
    "        restart2 = load_json(f'timings/CP-a{\"-rot\" if rot else \"\"}-heu{heu}-restart2.json')\n",
    "    \n",
    "        r1_done = np.argwhere(restart0 < 300).squeeze()\n",
    "        r2_done = np.argwhere(restart1 < 300).squeeze() \n",
    "        r3_done = np.argwhere(restart2 < 300).squeeze() \n",
    "        r1_timeout = np.argwhere(restart0 >= 300).squeeze()\n",
    "        r2_timeout = np.argwhere(restart1 >= 300).squeeze()\n",
    "        r3_timeout = np.argwhere(restart2 >= 300).squeeze()\n",
    "        if rot:\n",
    "            restart0 *= -1\n",
    "            restart1 *= -1\n",
    "            restart2 *= -1\n",
    "\n",
    "        r1 = ax.bar(r1_done - (3*w/2) + 1, restart0[r1_done], width=w, color='C0', align='center', \n",
    "                    label=f'{\"No restart\" if not rot else \"\"}')\n",
    "        r2 = ax.bar(r2_done - (w/2) + 1, restart1[r2_done], width=w, color='C3', align='center', \n",
    "                    label=f'{\"luby(150)\" if not rot else \"\"}')\n",
    "        r3 = ax.bar(r3_done + (w/2) + 1, restart2[r3_done], width=w, color='C2', align='center', \n",
    "                    label=f'{\"geometric(2, 50)\" if not rot else \"\"}')\n",
    "        r4 = ax.bar(r1_timeout - (3*w/2) + 1, restart0[r1_timeout], width=w, color='C0', hatch='//', alpha=0.3, align='center')\n",
    "        r5 = ax.bar(r2_timeout - (w/2) + 1, restart1[r2_timeout], width=w, color='C3', hatch='//', alpha=0.3, align='center')\n",
    "        r6 = ax.bar(r3_timeout + (w/2) + 1, restart2[r3_timeout], width=w, color='C2', hatch='//', alpha=0.3, align='center')\n",
    "        ax.set_xlabel('instances')\n",
    "    ax.set_title(f'Performances for {int2heu[heu]} heuristic based ')\n",
    "    ax.set_ylabel('time (s)')\n",
    "    ax.set_xlim(0, 41)\n",
    "    ax.set_ylim(-400, 400)\n",
    "    ax.set_xticks(list(range(1, 41)))\n",
    "    ax.legend()\n",
    "    ax.set_yscale('symlog')\n",
    "    ax.set_yticks([-300, -150, -60, -10, -1, -0.2, 0, 0.2, 1, 10, 60, 150, 300])\n",
    "    ax.get_yaxis().set_major_formatter(ScalarFormatter())\n",
    "    ax.set_yticklabels([300, 150, 60, 10, 1, 0.2, '', 0.2, 1, 10, 60, 150, 300])\n",
    "    ax.grid(axis='y')\n",
    "    if savefig:\n",
    "        fig.savefig(f'CP_heuristic{heu}')\n",
    "    plt.show()"
   ]
  },
  {
   "cell_type": "code",
   "execution_count": null,
   "id": "recorded-stretch",
   "metadata": {
    "jupyter": {
     "source_hidden": true
    },
    "tags": []
   },
   "outputs": [],
   "source": [
    "for rot in (False, True):\n",
    "    for heu in (0, 1, 2):\n",
    "        for restart in (0, 1, 2):\n",
    "            name = f'timings/CP-a{\"-rot\" if rot else \"\"}-heu{heu}-restart{restart}.json'\n",
    "            data = load_json(name)\n",
    "            s = get_stats(data)\n",
    "            print(f\"heu: {heu}, restart: {restart}, {'with rotations' if rot else ''}\")\n",
    "            print(f\"solved: {s['solved instances']}, avg time: {s['average time (all)']:.2f}\\n\")"
   ]
  },
  {
   "cell_type": "markdown",
   "id": "f52d1f11",
   "metadata": {},
   "source": [
    "# SAT Plots"
   ]
  },
  {
   "cell_type": "code",
   "execution_count": 59,
   "id": "chemical-physiology",
   "metadata": {},
   "outputs": [
    {
     "data": {
      "text/plain": [
       "['runtimes/SAT-sb.json', 'runtimes/SAT.json']"
      ]
     },
     "execution_count": 59,
     "metadata": {},
     "output_type": "execute_result"
    }
   ],
   "source": [
    "glob('runtimes/SAT*.json')"
   ]
  },
  {
   "cell_type": "markdown",
   "id": "d251e1d5",
   "metadata": {},
   "source": [
    "### Without Rotation"
   ]
  },
  {
   "cell_type": "code",
   "execution_count": 75,
   "id": "resident-responsibility",
   "metadata": {},
   "outputs": [
    {
     "data": {
      "image/png": "[encoded data removed]",
      "text/plain": [
       "<Figure size 1500x900 with 1 Axes>"
      ]
     },
     "metadata": {},
     "output_type": "display_data"
    }
   ],
   "source": [
    "w = 0.4\n",
    "baseline = load_json('runtimes/SAT.json')\n",
    "no_area = load_json('runtimes/SAT-sb.json')\n",
    "bl_done = np.argwhere(baseline < 300).squeeze()\n",
    "na_done = np.argwhere(no_area < 300).squeeze() \n",
    "bl_timeout = np.argwhere(baseline >= 300).squeeze()\n",
    "na_timeout = np.argwhere(no_area >= 300).squeeze()\n",
    "\n",
    "fig, ax = plt.subplots(1, 1, figsize=(15, 9))\n",
    "r1 = ax.bar(bl_done + (w/2) + 1, baseline[bl_done], width=w, color='C0', align='center', \n",
    "            label='Baseline')\n",
    "r2 = ax.bar(na_done - (w/2) + 1, no_area[na_done], width=w, color='C1', align='center', \n",
    "            label='Symmetry breaking')\n",
    "r3 = ax.bar(bl_timeout + (w/2) + 1, baseline[bl_timeout], width=w, color='C0', \n",
    "            hatch='//', alpha=0.3, align='center')\n",
    "r4 = ax.bar(na_timeout - (w/2) + 1, no_area[na_timeout], width=w, color='C1', \n",
    "            hatch='//', alpha=0.3, align='center')\n",
    "\n",
    "table = make_table([baseline, no_area], bbox=(0.05, 0.75, 0.17, 0.17))\n",
    "\n",
    "ax.set_xlabel('instances')\n",
    "ax.set_ylabel('time (s)')\n",
    "ax.set_xlim(0, 41)\n",
    "#ax.set_xticks(list(range(1, 41)))\n",
    "ax.legend()\n",
    "ax.set_yscale('log')\n",
    "ax.set_yticks([0.1, 1, 10, 60, 150, 300])\n",
    "ax.get_yaxis().set_major_formatter(ScalarFormatter())\n",
    "ax.grid(axis='y')\n",
    "if savefig:\n",
    "    fig.savefig('Plots_Images/SAT_NoRotation')\n",
    "plt.show()"
   ]
  },
  {
   "cell_type": "markdown",
   "id": "4737d7d8",
   "metadata": {},
   "source": [
    "### With Rotation"
   ]
  },
  {
   "cell_type": "code",
   "execution_count": 76,
   "id": "e8bb49fa",
   "metadata": {},
   "outputs": [
    {
     "ename": "FileNotFoundError",
     "evalue": "[Errno 2] No such file or directory: 'runtimes/SAT-rot.json'",
     "output_type": "error",
     "traceback": [
      "\u001b[0;31m---------------------------------------------------------------------------\u001b[0m",
      "\u001b[0;31mFileNotFoundError\u001b[0m                         Traceback (most recent call last)",
      "\u001b[0;32m/tmp/ipykernel_19970/30171883.py\u001b[0m in \u001b[0;36m<module>\u001b[0;34m\u001b[0m\n\u001b[1;32m      1\u001b[0m \u001b[0mw\u001b[0m \u001b[0;34m=\u001b[0m \u001b[0;36m0.4\u001b[0m\u001b[0;34m\u001b[0m\u001b[0;34m\u001b[0m\u001b[0m\n\u001b[0;32m----> 2\u001b[0;31m \u001b[0mbaseline\u001b[0m \u001b[0;34m=\u001b[0m \u001b[0mload_json\u001b[0m\u001b[0;34m(\u001b[0m\u001b[0;34m'runtimes/SAT-rot.json'\u001b[0m\u001b[0;34m)\u001b[0m\u001b[0;34m\u001b[0m\u001b[0;34m\u001b[0m\u001b[0m\n\u001b[0m\u001b[1;32m      3\u001b[0m \u001b[0mno_area\u001b[0m \u001b[0;34m=\u001b[0m \u001b[0mload_json\u001b[0m\u001b[0;34m(\u001b[0m\u001b[0;34m'runtimes/SAT-sb-rot.json'\u001b[0m\u001b[0;34m)\u001b[0m\u001b[0;34m\u001b[0m\u001b[0;34m\u001b[0m\u001b[0m\n\u001b[1;32m      4\u001b[0m \u001b[0mbl_done\u001b[0m \u001b[0;34m=\u001b[0m \u001b[0mnp\u001b[0m\u001b[0;34m.\u001b[0m\u001b[0margwhere\u001b[0m\u001b[0;34m(\u001b[0m\u001b[0mbaseline\u001b[0m \u001b[0;34m<\u001b[0m \u001b[0;36m300\u001b[0m\u001b[0;34m)\u001b[0m\u001b[0;34m.\u001b[0m\u001b[0msqueeze\u001b[0m\u001b[0;34m(\u001b[0m\u001b[0;34m)\u001b[0m\u001b[0;34m\u001b[0m\u001b[0;34m\u001b[0m\u001b[0m\n\u001b[1;32m      5\u001b[0m \u001b[0mna_done\u001b[0m \u001b[0;34m=\u001b[0m \u001b[0mnp\u001b[0m\u001b[0;34m.\u001b[0m\u001b[0margwhere\u001b[0m\u001b[0;34m(\u001b[0m\u001b[0mno_area\u001b[0m \u001b[0;34m<\u001b[0m \u001b[0;36m300\u001b[0m\u001b[0;34m)\u001b[0m\u001b[0;34m.\u001b[0m\u001b[0msqueeze\u001b[0m\u001b[0;34m(\u001b[0m\u001b[0;34m)\u001b[0m\u001b[0;34m\u001b[0m\u001b[0;34m\u001b[0m\u001b[0m\n",
      "\u001b[0;32m/tmp/ipykernel_19970/2856661244.py\u001b[0m in \u001b[0;36mload_json\u001b[0;34m(name)\u001b[0m\n\u001b[1;32m      1\u001b[0m \u001b[0;31m#get values:\u001b[0m\u001b[0;34m\u001b[0m\u001b[0;34m\u001b[0m\u001b[0m\n\u001b[1;32m      2\u001b[0m \u001b[0;32mdef\u001b[0m \u001b[0mload_json\u001b[0m\u001b[0;34m(\u001b[0m\u001b[0mname\u001b[0m\u001b[0;34m)\u001b[0m\u001b[0;34m:\u001b[0m\u001b[0;34m\u001b[0m\u001b[0;34m\u001b[0m\u001b[0m\n\u001b[0;32m----> 3\u001b[0;31m     \u001b[0;32mwith\u001b[0m \u001b[0mopen\u001b[0m\u001b[0;34m(\u001b[0m\u001b[0mname\u001b[0m\u001b[0;34m)\u001b[0m \u001b[0;32mas\u001b[0m \u001b[0mf\u001b[0m\u001b[0;34m:\u001b[0m\u001b[0;34m\u001b[0m\u001b[0;34m\u001b[0m\u001b[0m\n\u001b[0m\u001b[1;32m      4\u001b[0m         \u001b[0mdata\u001b[0m \u001b[0;34m=\u001b[0m \u001b[0mnp\u001b[0m\u001b[0;34m.\u001b[0m\u001b[0marray\u001b[0m\u001b[0;34m(\u001b[0m\u001b[0;34m[\u001b[0m\u001b[0mv\u001b[0m \u001b[0;32mfor\u001b[0m \u001b[0mv\u001b[0m \u001b[0;32min\u001b[0m \u001b[0mjson\u001b[0m\u001b[0;34m.\u001b[0m\u001b[0mload\u001b[0m\u001b[0;34m(\u001b[0m\u001b[0mf\u001b[0m\u001b[0;34m)\u001b[0m\u001b[0;34m.\u001b[0m\u001b[0mvalues\u001b[0m\u001b[0;34m(\u001b[0m\u001b[0;34m)\u001b[0m\u001b[0;34m]\u001b[0m\u001b[0;34m)\u001b[0m\u001b[0;34m\u001b[0m\u001b[0;34m\u001b[0m\u001b[0m\n\u001b[1;32m      5\u001b[0m     \u001b[0;32mreturn\u001b[0m \u001b[0mdata\u001b[0m\u001b[0;34m\u001b[0m\u001b[0;34m\u001b[0m\u001b[0m\n",
      "\u001b[0;31mFileNotFoundError\u001b[0m: [Errno 2] No such file or directory: 'runtimes/SAT-rot.json'"
     ]
    }
   ],
   "source": [
    "w = 0.4\n",
    "baseline = load_json('runtimes/SAT-rot.json')\n",
    "no_area = load_json('runtimes/SAT-sb-rot.json')\n",
    "bl_done = np.argwhere(baseline < 300).squeeze()\n",
    "na_done = np.argwhere(no_area < 300).squeeze() \n",
    "bl_timeout = np.argwhere(baseline >= 300).squeeze()\n",
    "na_timeout = np.argwhere(no_area >= 300).squeeze()\n",
    "\n",
    "fig, ax = plt.subplots(1, 1, figsize=(15, 9))\n",
    "r1 = ax.bar(bl_done + (w/2) + 1, baseline[bl_done], width=w, color='C0', align='center', \n",
    "            label='Baseline')\n",
    "r2 = ax.bar(na_done - (w/2) + 1, no_area[na_done], width=w, color='C1', align='center', \n",
    "            label='Symmetry breaking')\n",
    "r3 = ax.bar(bl_timeout + (w/2) + 1, baseline[bl_timeout], width=w, color='C0', \n",
    "            hatch='//', alpha=0.3, align='center')\n",
    "r4 = ax.bar(na_timeout - (w/2) + 1, no_area[na_timeout], width=w, color='C1', \n",
    "            hatch='//', alpha=0.3, align='center')\n",
    "\n",
    "table = make_table([baseline, no_area], bbox=(0.05, 0.75, 0.17, 0.17))\n",
    "\n",
    "ax.set_xlabel('instances')\n",
    "ax.set_ylabel('time (s)')\n",
    "ax.set_xlim(0, 41)\n",
    "#ax.set_xticks(list(range(1, 41)))\n",
    "ax.legend()\n",
    "ax.set_yscale('log')\n",
    "ax.set_yticks([0.1, 1, 10, 60, 150, 300])\n",
    "ax.get_yaxis().set_major_formatter(ScalarFormatter())\n",
    "ax.grid(axis='y')\n",
    "if savefig:\n",
    "    fig.savefig('Plots_Images/SAT_Rotation')\n",
    "plt.show()"
   ]
  },
  {
   "cell_type": "markdown",
   "id": "4dfbc1c0",
   "metadata": {},
   "source": [
    "### With rotation and without rotation comparison\n",
    "\n",
    "## PER GIANLU (una volta che funziona il plot capovolto, basta cambiare i file e si copia e incolla per SMT, MIP e CP)"
   ]
  },
  {
   "cell_type": "code",
   "execution_count": 77,
   "id": "southern-breach",
   "metadata": {
    "tags": []
   },
   "outputs": [
    {
     "data": {
      "image/png": "[encoded data removed]",
      "text/plain": [
       "<Figure size 1600x900 with 1 Axes>"
      ]
     },
     "metadata": {},
     "output_type": "display_data"
    }
   ],
   "source": [
    "w = 0.4\n",
    "fig, ax = plt.subplots(1, 1, figsize=(16, 9))\n",
    "\n",
    "for rot in (False, True):\n",
    "    baseline = load_json(f'runtimes/SAT.json')\n",
    "    search = load_json(f'runtimes/SAT-sb.json')\n",
    "    bl_done = np.argwhere(baseline < 300).squeeze()\n",
    "    se_done = np.argwhere(search < 300).squeeze() \n",
    "    bl_timeout = np.argwhere(baseline >= 300).squeeze()\n",
    "    se_timeout = np.argwhere(search >= 300).squeeze()\n",
    "\n",
    "    if rot:\n",
    "        baseline *= -1\n",
    "        search *= -1\n",
    "\n",
    "    r1 = ax.bar(bl_done + (w/2) + 1, baseline[bl_done], width=w, color='C0', align='center', \n",
    "                label=f'{\"Baseline, without rotation\" if not rot else \"\"}')\n",
    "    r2 = ax.bar(se_done - (w/2) + 1, search[se_done], width=w, color='C1', align='center', \n",
    "                label=f'{\"Baseline, with rotation\" if not rot else \"\"}')\n",
    "    r3 = ax.bar(bl_timeout + (w/2) + 1, baseline[bl_timeout], width=w, color='C3', \n",
    "                hatch='//', alpha=0.3, align='center')\n",
    "    r4 = ax.bar(se_timeout - (w/2) + 1, search[se_timeout], width=w, color='C1', \n",
    "                hatch='//', alpha=0.3, align='center')\n",
    "\n",
    "    # table = make_table([baseline, no_area], bbox=(0.05, 0.75, 0.17, 0.17))\n",
    "\n",
    "ax.set_xlabel('instances')\n",
    "ax.set_ylabel('time (s)')\n",
    "ax.set_xlim(0, 41)\n",
    "ax.set_ylim(-400, 400)\n",
    "#ax.set_xticks(list(range(1, 41)))\n",
    "ax.legend()\n",
    "ax.set_yscale('symlog')\n",
    "ax.set_yticks([-300, -150, -60, -10, -1, -0.2, 0, 0.2, 1, 10, 60, 150, 300])\n",
    "ax.get_yaxis().set_major_formatter(ScalarFormatter())\n",
    "ax.set_yticklabels([300, 150, 60, 10, 1, 0.2, '', 0.2, 1, 10, 60, 150, 300])\n",
    "ax.grid(axis='y')\n",
    "if savefig:\n",
    "    fig.savefig('SAT_search_and_rot')\n",
    "plt.show()"
   ]
  },
  {
   "cell_type": "markdown",
   "id": "99fb4df0",
   "metadata": {},
   "source": [
    "# SMT"
   ]
  },
  {
   "cell_type": "code",
   "execution_count": 63,
   "id": "capital-country",
   "metadata": {},
   "outputs": [
    {
     "data": {
      "text/plain": [
       "[]"
      ]
     },
     "execution_count": 63,
     "metadata": {},
     "output_type": "execute_result"
    }
   ],
   "source": [
    "glob('runtimes/SMT*.json')"
   ]
  },
  {
   "cell_type": "markdown",
   "id": "296ae961",
   "metadata": {},
   "source": [
    "### Without Rotation"
   ]
  },
  {
   "cell_type": "code",
   "execution_count": 64,
   "id": "southeast-cycling",
   "metadata": {
    "tags": []
   },
   "outputs": [
    {
     "ename": "FileNotFoundError",
     "evalue": "[Errno 2] No such file or directory: 'runtimes/SMT.json'",
     "output_type": "error",
     "traceback": [
      "\u001b[0;31m---------------------------------------------------------------------------\u001b[0m",
      "\u001b[0;31mFileNotFoundError\u001b[0m                         Traceback (most recent call last)",
      "\u001b[0;32m/tmp/ipykernel_19970/174046377.py\u001b[0m in \u001b[0;36m<module>\u001b[0;34m\u001b[0m\n\u001b[1;32m      1\u001b[0m \u001b[0mw\u001b[0m \u001b[0;34m=\u001b[0m \u001b[0;36m0.4\u001b[0m\u001b[0;34m\u001b[0m\u001b[0;34m\u001b[0m\u001b[0m\n\u001b[1;32m      2\u001b[0m \u001b[0;34m\u001b[0m\u001b[0m\n\u001b[0;32m----> 3\u001b[0;31m \u001b[0mbaseline\u001b[0m \u001b[0;34m=\u001b[0m \u001b[0mload_json\u001b[0m\u001b[0;34m(\u001b[0m\u001b[0;34m'runtimes/SMT.json'\u001b[0m\u001b[0;34m)\u001b[0m\u001b[0;34m\u001b[0m\u001b[0;34m\u001b[0m\u001b[0m\n\u001b[0m\u001b[1;32m      4\u001b[0m \u001b[0mno_area\u001b[0m \u001b[0;34m=\u001b[0m \u001b[0mload_json\u001b[0m\u001b[0;34m(\u001b[0m\u001b[0;34m'runtimes/SMT-sb.json'\u001b[0m\u001b[0;34m)\u001b[0m\u001b[0;34m\u001b[0m\u001b[0;34m\u001b[0m\u001b[0m\n\u001b[1;32m      5\u001b[0m \u001b[0;34m\u001b[0m\u001b[0m\n",
      "\u001b[0;32m/tmp/ipykernel_19970/2856661244.py\u001b[0m in \u001b[0;36mload_json\u001b[0;34m(name)\u001b[0m\n\u001b[1;32m      1\u001b[0m \u001b[0;31m#get values:\u001b[0m\u001b[0;34m\u001b[0m\u001b[0;34m\u001b[0m\u001b[0m\n\u001b[1;32m      2\u001b[0m \u001b[0;32mdef\u001b[0m \u001b[0mload_json\u001b[0m\u001b[0;34m(\u001b[0m\u001b[0mname\u001b[0m\u001b[0;34m)\u001b[0m\u001b[0;34m:\u001b[0m\u001b[0;34m\u001b[0m\u001b[0;34m\u001b[0m\u001b[0m\n\u001b[0;32m----> 3\u001b[0;31m     \u001b[0;32mwith\u001b[0m \u001b[0mopen\u001b[0m\u001b[0;34m(\u001b[0m\u001b[0mname\u001b[0m\u001b[0;34m)\u001b[0m \u001b[0;32mas\u001b[0m \u001b[0mf\u001b[0m\u001b[0;34m:\u001b[0m\u001b[0;34m\u001b[0m\u001b[0;34m\u001b[0m\u001b[0m\n\u001b[0m\u001b[1;32m      4\u001b[0m         \u001b[0mdata\u001b[0m \u001b[0;34m=\u001b[0m \u001b[0mnp\u001b[0m\u001b[0;34m.\u001b[0m\u001b[0marray\u001b[0m\u001b[0;34m(\u001b[0m\u001b[0;34m[\u001b[0m\u001b[0mv\u001b[0m \u001b[0;32mfor\u001b[0m \u001b[0mv\u001b[0m \u001b[0;32min\u001b[0m \u001b[0mjson\u001b[0m\u001b[0;34m.\u001b[0m\u001b[0mload\u001b[0m\u001b[0;34m(\u001b[0m\u001b[0mf\u001b[0m\u001b[0;34m)\u001b[0m\u001b[0;34m.\u001b[0m\u001b[0mvalues\u001b[0m\u001b[0;34m(\u001b[0m\u001b[0;34m)\u001b[0m\u001b[0;34m]\u001b[0m\u001b[0;34m)\u001b[0m\u001b[0;34m\u001b[0m\u001b[0;34m\u001b[0m\u001b[0m\n\u001b[1;32m      5\u001b[0m     \u001b[0;32mreturn\u001b[0m \u001b[0mdata\u001b[0m\u001b[0;34m\u001b[0m\u001b[0;34m\u001b[0m\u001b[0m\n",
      "\u001b[0;31mFileNotFoundError\u001b[0m: [Errno 2] No such file or directory: 'runtimes/SMT.json'"
     ]
    }
   ],
   "source": [
    "w = 0.4\n",
    "\n",
    "baseline = load_json('runtimes/SMT.json')\n",
    "no_area = load_json('runtimes/SMT-sb.json')\n",
    "\n",
    "bl_done = np.argwhere(baseline < 300).squeeze()\n",
    "na_done = np.argwhere(no_area < 300).squeeze() \n",
    "bl_timeout = np.argwhere(baseline >= 300).squeeze()\n",
    "na_timeout = np.argwhere(no_area >= 300).squeeze()\n",
    "\n",
    "fig, ax = plt.subplots(1, 1, figsize=(15, 9))\n",
    "r1 = ax.bar(bl_done + (w/2) + 1, baseline[bl_done], width=w, color='C0', align='center', \n",
    "            label='Baseline')\n",
    "r2 = ax.bar(na_done - (w/2) + 1, no_area[na_done], width=w, color='C1', align='center', \n",
    "            label='Symmetry-Breaking')\n",
    "r3 = ax.bar(bl_timeout + (w/2) + 1, baseline[bl_timeout], width=w, color='C0', \n",
    "            hatch='//', alpha=0.3, align='center')\n",
    "r4 = ax.bar(na_timeout - (w/2) + 1, no_area[na_timeout], width=w, color='C1', \n",
    "            hatch='//', alpha=0.3, align='center')\n",
    "\n",
    "table = make_table([baseline, no_area])\n",
    "\n",
    "ax.set_xlabel('instances')\n",
    "ax.set_ylabel('time (s)')\n",
    "ax.set_xlim(0, 41)\n",
    "ax.set_xticks(list(range(1, 41)))\n",
    "ax.legend()\n",
    "ax.set_yscale('log')\n",
    "ax.set_yticks([0.1, 1, 10, 60, 150, 300])\n",
    "ax.get_yaxis().set_major_formatter(ScalarFormatter())\n",
    "ax.grid(axis='y')\n",
    "if savefig:\n",
    "    fig.savefig('Plots_Images/SMT_NoRotation')\n",
    "plt.show()"
   ]
  },
  {
   "cell_type": "markdown",
   "id": "b1be6283",
   "metadata": {},
   "source": [
    "### With Rotation"
   ]
  },
  {
   "cell_type": "code",
   "execution_count": 65,
   "id": "7fe4717d",
   "metadata": {},
   "outputs": [
    {
     "ename": "FileNotFoundError",
     "evalue": "[Errno 2] No such file or directory: 'runtimes/SMT-rot.json'",
     "output_type": "error",
     "traceback": [
      "\u001b[0;31m---------------------------------------------------------------------------\u001b[0m",
      "\u001b[0;31mFileNotFoundError\u001b[0m                         Traceback (most recent call last)",
      "\u001b[0;32m/tmp/ipykernel_19970/4190866136.py\u001b[0m in \u001b[0;36m<module>\u001b[0;34m\u001b[0m\n\u001b[1;32m      1\u001b[0m \u001b[0mw\u001b[0m \u001b[0;34m=\u001b[0m \u001b[0;36m0.4\u001b[0m\u001b[0;34m\u001b[0m\u001b[0;34m\u001b[0m\u001b[0m\n\u001b[1;32m      2\u001b[0m \u001b[0;34m\u001b[0m\u001b[0m\n\u001b[0;32m----> 3\u001b[0;31m \u001b[0mbaseline\u001b[0m \u001b[0;34m=\u001b[0m \u001b[0mload_json\u001b[0m\u001b[0;34m(\u001b[0m\u001b[0;34m'runtimes/SMT-rot.json'\u001b[0m\u001b[0;34m)\u001b[0m\u001b[0;34m\u001b[0m\u001b[0;34m\u001b[0m\u001b[0m\n\u001b[0m\u001b[1;32m      4\u001b[0m \u001b[0mno_area\u001b[0m \u001b[0;34m=\u001b[0m \u001b[0mload_json\u001b[0m\u001b[0;34m(\u001b[0m\u001b[0;34m'runtimes/SMT-sb-rot.json'\u001b[0m\u001b[0;34m)\u001b[0m\u001b[0;34m\u001b[0m\u001b[0;34m\u001b[0m\u001b[0m\n\u001b[1;32m      5\u001b[0m \u001b[0;34m\u001b[0m\u001b[0m\n",
      "\u001b[0;32m/tmp/ipykernel_19970/2856661244.py\u001b[0m in \u001b[0;36mload_json\u001b[0;34m(name)\u001b[0m\n\u001b[1;32m      1\u001b[0m \u001b[0;31m#get values:\u001b[0m\u001b[0;34m\u001b[0m\u001b[0;34m\u001b[0m\u001b[0m\n\u001b[1;32m      2\u001b[0m \u001b[0;32mdef\u001b[0m \u001b[0mload_json\u001b[0m\u001b[0;34m(\u001b[0m\u001b[0mname\u001b[0m\u001b[0;34m)\u001b[0m\u001b[0;34m:\u001b[0m\u001b[0;34m\u001b[0m\u001b[0;34m\u001b[0m\u001b[0m\n\u001b[0;32m----> 3\u001b[0;31m     \u001b[0;32mwith\u001b[0m \u001b[0mopen\u001b[0m\u001b[0;34m(\u001b[0m\u001b[0mname\u001b[0m\u001b[0;34m)\u001b[0m \u001b[0;32mas\u001b[0m \u001b[0mf\u001b[0m\u001b[0;34m:\u001b[0m\u001b[0;34m\u001b[0m\u001b[0;34m\u001b[0m\u001b[0m\n\u001b[0m\u001b[1;32m      4\u001b[0m         \u001b[0mdata\u001b[0m \u001b[0;34m=\u001b[0m \u001b[0mnp\u001b[0m\u001b[0;34m.\u001b[0m\u001b[0marray\u001b[0m\u001b[0;34m(\u001b[0m\u001b[0;34m[\u001b[0m\u001b[0mv\u001b[0m \u001b[0;32mfor\u001b[0m \u001b[0mv\u001b[0m \u001b[0;32min\u001b[0m \u001b[0mjson\u001b[0m\u001b[0;34m.\u001b[0m\u001b[0mload\u001b[0m\u001b[0;34m(\u001b[0m\u001b[0mf\u001b[0m\u001b[0;34m)\u001b[0m\u001b[0;34m.\u001b[0m\u001b[0mvalues\u001b[0m\u001b[0;34m(\u001b[0m\u001b[0;34m)\u001b[0m\u001b[0;34m]\u001b[0m\u001b[0;34m)\u001b[0m\u001b[0;34m\u001b[0m\u001b[0;34m\u001b[0m\u001b[0m\n\u001b[1;32m      5\u001b[0m     \u001b[0;32mreturn\u001b[0m \u001b[0mdata\u001b[0m\u001b[0;34m\u001b[0m\u001b[0;34m\u001b[0m\u001b[0m\n",
      "\u001b[0;31mFileNotFoundError\u001b[0m: [Errno 2] No such file or directory: 'runtimes/SMT-rot.json'"
     ]
    }
   ],
   "source": [
    "w = 0.4\n",
    "\n",
    "baseline = load_json('runtimes/SMT-rot.json')\n",
    "no_area = load_json('runtimes/SMT-sb-rot.json')\n",
    "\n",
    "bl_done = np.argwhere(baseline < 300).squeeze()\n",
    "na_done = np.argwhere(no_area < 300).squeeze() \n",
    "bl_timeout = np.argwhere(baseline >= 300).squeeze()\n",
    "na_timeout = np.argwhere(no_area >= 300).squeeze()\n",
    "\n",
    "fig, ax = plt.subplots(1, 1, figsize=(15, 9))\n",
    "r1 = ax.bar(bl_done + (w/2) + 1, baseline[bl_done], width=w, color='C0', align='center', \n",
    "            label='Baseline')\n",
    "r2 = ax.bar(na_done - (w/2) + 1, no_area[na_done], width=w, color='C1', align='center', \n",
    "            label='Symmetry-Breaking')\n",
    "r3 = ax.bar(bl_timeout + (w/2) + 1, baseline[bl_timeout], width=w, color='C0', \n",
    "            hatch='//', alpha=0.3, align='center')\n",
    "r4 = ax.bar(na_timeout - (w/2) + 1, no_area[na_timeout], width=w, color='C1', \n",
    "            hatch='//', alpha=0.3, align='center')\n",
    "\n",
    "table = make_table([baseline, no_area])\n",
    "\n",
    "ax.set_xlabel('instances')\n",
    "ax.set_ylabel('time (s)')\n",
    "ax.set_xlim(0, 41)\n",
    "ax.set_xticks(list(range(1, 41)))\n",
    "ax.legend()\n",
    "ax.set_yscale('log')\n",
    "ax.set_yticks([0.1, 1, 10, 60, 150, 300])\n",
    "ax.get_yaxis().set_major_formatter(ScalarFormatter())\n",
    "ax.grid(axis='y')\n",
    "if savefig:\n",
    "    fig.savefig('Plots_Images/SMT_Rotation')\n",
    "plt.show()"
   ]
  },
  {
   "cell_type": "markdown",
   "id": "7405bd18",
   "metadata": {},
   "source": [
    "# MIP"
   ]
  },
  {
   "cell_type": "code",
   "execution_count": 66,
   "id": "d0326363",
   "metadata": {},
   "outputs": [
    {
     "data": {
      "text/plain": [
       "[]"
      ]
     },
     "execution_count": 66,
     "metadata": {},
     "output_type": "execute_result"
    }
   ],
   "source": [
    "glob('runtimes/MIP*.json')"
   ]
  },
  {
   "cell_type": "markdown",
   "id": "92f7a0dd",
   "metadata": {},
   "source": [
    "### Without Rotation"
   ]
  },
  {
   "cell_type": "code",
   "execution_count": 67,
   "id": "56d8baa8",
   "metadata": {},
   "outputs": [
    {
     "ename": "FileNotFoundError",
     "evalue": "[Errno 2] No such file or directory: 'runtimes/MIP.json'",
     "output_type": "error",
     "traceback": [
      "\u001b[0;31m---------------------------------------------------------------------------\u001b[0m",
      "\u001b[0;31mFileNotFoundError\u001b[0m                         Traceback (most recent call last)",
      "\u001b[0;32m/tmp/ipykernel_19970/2663420067.py\u001b[0m in \u001b[0;36m<module>\u001b[0;34m\u001b[0m\n\u001b[1;32m      1\u001b[0m \u001b[0mw\u001b[0m \u001b[0;34m=\u001b[0m \u001b[0;36m0.4\u001b[0m\u001b[0;34m\u001b[0m\u001b[0;34m\u001b[0m\u001b[0m\n\u001b[0;32m----> 2\u001b[0;31m \u001b[0mbaseline\u001b[0m \u001b[0;34m=\u001b[0m \u001b[0mload_json\u001b[0m\u001b[0;34m(\u001b[0m\u001b[0;34m'runtimes/MIP.json'\u001b[0m\u001b[0;34m)\u001b[0m\u001b[0;34m\u001b[0m\u001b[0;34m\u001b[0m\u001b[0m\n\u001b[0m\u001b[1;32m      3\u001b[0m \u001b[0mno_area\u001b[0m \u001b[0;34m=\u001b[0m \u001b[0mload_json\u001b[0m\u001b[0;34m(\u001b[0m\u001b[0;34m'runtimes/MIP-sb.json'\u001b[0m\u001b[0;34m)\u001b[0m\u001b[0;34m\u001b[0m\u001b[0;34m\u001b[0m\u001b[0m\n\u001b[1;32m      4\u001b[0m \u001b[0mbl_done\u001b[0m \u001b[0;34m=\u001b[0m \u001b[0mnp\u001b[0m\u001b[0;34m.\u001b[0m\u001b[0margwhere\u001b[0m\u001b[0;34m(\u001b[0m\u001b[0mbaseline\u001b[0m \u001b[0;34m<\u001b[0m \u001b[0;36m300\u001b[0m\u001b[0;34m)\u001b[0m\u001b[0;34m.\u001b[0m\u001b[0msqueeze\u001b[0m\u001b[0;34m(\u001b[0m\u001b[0;34m)\u001b[0m\u001b[0;34m\u001b[0m\u001b[0;34m\u001b[0m\u001b[0m\n\u001b[1;32m      5\u001b[0m \u001b[0mna_done\u001b[0m \u001b[0;34m=\u001b[0m \u001b[0mnp\u001b[0m\u001b[0;34m.\u001b[0m\u001b[0margwhere\u001b[0m\u001b[0;34m(\u001b[0m\u001b[0mno_area\u001b[0m \u001b[0;34m<\u001b[0m \u001b[0;36m300\u001b[0m\u001b[0;34m)\u001b[0m\u001b[0;34m.\u001b[0m\u001b[0msqueeze\u001b[0m\u001b[0;34m(\u001b[0m\u001b[0;34m)\u001b[0m\u001b[0;34m\u001b[0m\u001b[0;34m\u001b[0m\u001b[0m\n",
      "\u001b[0;32m/tmp/ipykernel_19970/2856661244.py\u001b[0m in \u001b[0;36mload_json\u001b[0;34m(name)\u001b[0m\n\u001b[1;32m      1\u001b[0m \u001b[0;31m#get values:\u001b[0m\u001b[0;34m\u001b[0m\u001b[0;34m\u001b[0m\u001b[0m\n\u001b[1;32m      2\u001b[0m \u001b[0;32mdef\u001b[0m \u001b[0mload_json\u001b[0m\u001b[0;34m(\u001b[0m\u001b[0mname\u001b[0m\u001b[0;34m)\u001b[0m\u001b[0;34m:\u001b[0m\u001b[0;34m\u001b[0m\u001b[0;34m\u001b[0m\u001b[0m\n\u001b[0;32m----> 3\u001b[0;31m     \u001b[0;32mwith\u001b[0m \u001b[0mopen\u001b[0m\u001b[0;34m(\u001b[0m\u001b[0mname\u001b[0m\u001b[0;34m)\u001b[0m \u001b[0;32mas\u001b[0m \u001b[0mf\u001b[0m\u001b[0;34m:\u001b[0m\u001b[0;34m\u001b[0m\u001b[0;34m\u001b[0m\u001b[0m\n\u001b[0m\u001b[1;32m      4\u001b[0m         \u001b[0mdata\u001b[0m \u001b[0;34m=\u001b[0m \u001b[0mnp\u001b[0m\u001b[0;34m.\u001b[0m\u001b[0marray\u001b[0m\u001b[0;34m(\u001b[0m\u001b[0;34m[\u001b[0m\u001b[0mv\u001b[0m \u001b[0;32mfor\u001b[0m \u001b[0mv\u001b[0m \u001b[0;32min\u001b[0m \u001b[0mjson\u001b[0m\u001b[0;34m.\u001b[0m\u001b[0mload\u001b[0m\u001b[0;34m(\u001b[0m\u001b[0mf\u001b[0m\u001b[0;34m)\u001b[0m\u001b[0;34m.\u001b[0m\u001b[0mvalues\u001b[0m\u001b[0;34m(\u001b[0m\u001b[0;34m)\u001b[0m\u001b[0;34m]\u001b[0m\u001b[0;34m)\u001b[0m\u001b[0;34m\u001b[0m\u001b[0;34m\u001b[0m\u001b[0m\n\u001b[1;32m      5\u001b[0m     \u001b[0;32mreturn\u001b[0m \u001b[0mdata\u001b[0m\u001b[0;34m\u001b[0m\u001b[0;34m\u001b[0m\u001b[0m\n",
      "\u001b[0;31mFileNotFoundError\u001b[0m: [Errno 2] No such file or directory: 'runtimes/MIP.json'"
     ]
    }
   ],
   "source": [
    "w = 0.4\n",
    "baseline = load_json('runtimes/MIP.json')\n",
    "no_area = load_json('runtimes/MIP-sb.json')\n",
    "bl_done = np.argwhere(baseline < 300).squeeze()\n",
    "na_done = np.argwhere(no_area < 300).squeeze() \n",
    "bl_timeout = np.argwhere(baseline >= 300).squeeze()\n",
    "na_timeout = np.argwhere(no_area >= 300).squeeze()\n",
    "\n",
    "fig, ax = plt.subplots(1, 1, figsize=(15, 9))\n",
    "r1 = ax.bar(bl_done + (w/2) + 1, baseline[bl_done], width=w, color='C0', align='center', \n",
    "            label='Baseline')\n",
    "r2 = ax.bar(na_done - (w/2) + 1, no_area[na_done], width=w, color='C1', align='center', \n",
    "            label='Symmetry breaking')\n",
    "r3 = ax.bar(bl_timeout + (w/2) + 1, baseline[bl_timeout], width=w, color='C0', \n",
    "            hatch='//', alpha=0.3, align='center')\n",
    "r4 = ax.bar(na_timeout - (w/2) + 1, no_area[na_timeout], width=w, color='C1', \n",
    "            hatch='//', alpha=0.3, align='center')\n",
    "\n",
    "table = make_table([baseline, no_area], bbox=(0.05, 0.75, 0.17, 0.17))\n",
    "\n",
    "ax.set_xlabel('instances')\n",
    "ax.set_ylabel('time (s)')\n",
    "ax.set_xlim(0, 41)\n",
    "ax.set_xticks(list(range(1, 41)))\n",
    "ax.legend()\n",
    "ax.set_yscale('log')\n",
    "ax.set_yticks([0.1, 1, 10, 60, 150, 300])\n",
    "ax.get_yaxis().set_major_formatter(ScalarFormatter())\n",
    "ax.grid(axis='y')\n",
    "if savefig:\n",
    "    fig.savefig('Plots_Images/MIP_NoRotation')\n",
    "plt.show()"
   ]
  },
  {
   "cell_type": "markdown",
   "id": "bccb2205",
   "metadata": {},
   "source": [
    "### With Rotation"
   ]
  },
  {
   "cell_type": "code",
   "execution_count": 68,
   "id": "836d531f",
   "metadata": {},
   "outputs": [
    {
     "ename": "FileNotFoundError",
     "evalue": "[Errno 2] No such file or directory: 'runtimes/MIP-rot.json'",
     "output_type": "error",
     "traceback": [
      "\u001b[0;31m---------------------------------------------------------------------------\u001b[0m",
      "\u001b[0;31mFileNotFoundError\u001b[0m                         Traceback (most recent call last)",
      "\u001b[0;32m/tmp/ipykernel_19970/4273887975.py\u001b[0m in \u001b[0;36m<module>\u001b[0;34m\u001b[0m\n\u001b[1;32m      1\u001b[0m \u001b[0mw\u001b[0m \u001b[0;34m=\u001b[0m \u001b[0;36m0.4\u001b[0m\u001b[0;34m\u001b[0m\u001b[0;34m\u001b[0m\u001b[0m\n\u001b[0;32m----> 2\u001b[0;31m \u001b[0mbaseline\u001b[0m \u001b[0;34m=\u001b[0m \u001b[0mload_json\u001b[0m\u001b[0;34m(\u001b[0m\u001b[0;34m'runtimes/MIP-rot.json'\u001b[0m\u001b[0;34m)\u001b[0m\u001b[0;34m\u001b[0m\u001b[0;34m\u001b[0m\u001b[0m\n\u001b[0m\u001b[1;32m      3\u001b[0m \u001b[0mno_area\u001b[0m \u001b[0;34m=\u001b[0m \u001b[0mload_json\u001b[0m\u001b[0;34m(\u001b[0m\u001b[0;34m'runtimes/MIP-sb-rot.json'\u001b[0m\u001b[0;34m)\u001b[0m\u001b[0;34m\u001b[0m\u001b[0;34m\u001b[0m\u001b[0m\n\u001b[1;32m      4\u001b[0m \u001b[0mbl_done\u001b[0m \u001b[0;34m=\u001b[0m \u001b[0mnp\u001b[0m\u001b[0;34m.\u001b[0m\u001b[0margwhere\u001b[0m\u001b[0;34m(\u001b[0m\u001b[0mbaseline\u001b[0m \u001b[0;34m<\u001b[0m \u001b[0;36m300\u001b[0m\u001b[0;34m)\u001b[0m\u001b[0;34m.\u001b[0m\u001b[0msqueeze\u001b[0m\u001b[0;34m(\u001b[0m\u001b[0;34m)\u001b[0m\u001b[0;34m\u001b[0m\u001b[0;34m\u001b[0m\u001b[0m\n\u001b[1;32m      5\u001b[0m \u001b[0mna_done\u001b[0m \u001b[0;34m=\u001b[0m \u001b[0mnp\u001b[0m\u001b[0;34m.\u001b[0m\u001b[0margwhere\u001b[0m\u001b[0;34m(\u001b[0m\u001b[0mno_area\u001b[0m \u001b[0;34m<\u001b[0m \u001b[0;36m300\u001b[0m\u001b[0;34m)\u001b[0m\u001b[0;34m.\u001b[0m\u001b[0msqueeze\u001b[0m\u001b[0;34m(\u001b[0m\u001b[0;34m)\u001b[0m\u001b[0;34m\u001b[0m\u001b[0;34m\u001b[0m\u001b[0m\n",
      "\u001b[0;32m/tmp/ipykernel_19970/2856661244.py\u001b[0m in \u001b[0;36mload_json\u001b[0;34m(name)\u001b[0m\n\u001b[1;32m      1\u001b[0m \u001b[0;31m#get values:\u001b[0m\u001b[0;34m\u001b[0m\u001b[0;34m\u001b[0m\u001b[0m\n\u001b[1;32m      2\u001b[0m \u001b[0;32mdef\u001b[0m \u001b[0mload_json\u001b[0m\u001b[0;34m(\u001b[0m\u001b[0mname\u001b[0m\u001b[0;34m)\u001b[0m\u001b[0;34m:\u001b[0m\u001b[0;34m\u001b[0m\u001b[0;34m\u001b[0m\u001b[0m\n\u001b[0;32m----> 3\u001b[0;31m     \u001b[0;32mwith\u001b[0m \u001b[0mopen\u001b[0m\u001b[0;34m(\u001b[0m\u001b[0mname\u001b[0m\u001b[0;34m)\u001b[0m \u001b[0;32mas\u001b[0m \u001b[0mf\u001b[0m\u001b[0;34m:\u001b[0m\u001b[0;34m\u001b[0m\u001b[0;34m\u001b[0m\u001b[0m\n\u001b[0m\u001b[1;32m      4\u001b[0m         \u001b[0mdata\u001b[0m \u001b[0;34m=\u001b[0m \u001b[0mnp\u001b[0m\u001b[0;34m.\u001b[0m\u001b[0marray\u001b[0m\u001b[0;34m(\u001b[0m\u001b[0;34m[\u001b[0m\u001b[0mv\u001b[0m \u001b[0;32mfor\u001b[0m \u001b[0mv\u001b[0m \u001b[0;32min\u001b[0m \u001b[0mjson\u001b[0m\u001b[0;34m.\u001b[0m\u001b[0mload\u001b[0m\u001b[0;34m(\u001b[0m\u001b[0mf\u001b[0m\u001b[0;34m)\u001b[0m\u001b[0;34m.\u001b[0m\u001b[0mvalues\u001b[0m\u001b[0;34m(\u001b[0m\u001b[0;34m)\u001b[0m\u001b[0;34m]\u001b[0m\u001b[0;34m)\u001b[0m\u001b[0;34m\u001b[0m\u001b[0;34m\u001b[0m\u001b[0m\n\u001b[1;32m      5\u001b[0m     \u001b[0;32mreturn\u001b[0m \u001b[0mdata\u001b[0m\u001b[0;34m\u001b[0m\u001b[0;34m\u001b[0m\u001b[0m\n",
      "\u001b[0;31mFileNotFoundError\u001b[0m: [Errno 2] No such file or directory: 'runtimes/MIP-rot.json'"
     ]
    }
   ],
   "source": [
    "w = 0.4\n",
    "baseline = load_json('runtimes/MIP-rot.json')\n",
    "no_area = load_json('runtimes/MIP-sb-rot.json')\n",
    "bl_done = np.argwhere(baseline < 300).squeeze()\n",
    "na_done = np.argwhere(no_area < 300).squeeze() \n",
    "bl_timeout = np.argwhere(baseline >= 300).squeeze()\n",
    "na_timeout = np.argwhere(no_area >= 300).squeeze()\n",
    "\n",
    "fig, ax = plt.subplots(1, 1, figsize=(15, 9))\n",
    "r1 = ax.bar(bl_done + (w/2) + 1, baseline[bl_done], width=w, color='C0', align='center', \n",
    "            label='Baseline')\n",
    "r2 = ax.bar(na_done - (w/2) + 1, no_area[na_done], width=w, color='C1', align='center', \n",
    "            label='Symmetry breaking')\n",
    "r3 = ax.bar(bl_timeout + (w/2) + 1, baseline[bl_timeout], width=w, color='C0', \n",
    "            hatch='//', alpha=0.3, align='center')\n",
    "r4 = ax.bar(na_timeout - (w/2) + 1, no_area[na_timeout], width=w, color='C1', \n",
    "            hatch='//', alpha=0.3, align='center')\n",
    "\n",
    "table = make_table([baseline, no_area], bbox=(0.05, 0.75, 0.17, 0.17))\n",
    "\n",
    "ax.set_xlabel('instances')\n",
    "ax.set_ylabel('time (s)')\n",
    "ax.set_xlim(0, 41)\n",
    "ax.set_xticks(list(range(1, 41)))\n",
    "ax.legend()\n",
    "ax.set_yscale('log')\n",
    "ax.set_yticks([0.1, 1, 10, 60, 150, 300])\n",
    "ax.get_yaxis().set_major_formatter(ScalarFormatter())\n",
    "ax.grid(axis='y')\n",
    "if savefig:\n",
    "    fig.savefig('Plots_Images/MIP_Rotation')\n",
    "plt.show()"
   ]
  },
  {
   "cell_type": "code",
   "execution_count": null,
   "id": "85f2cf3b",
   "metadata": {},
   "outputs": [],
   "source": []
  },
  {
   "cell_type": "code",
   "execution_count": null,
   "id": "f616adf1",
   "metadata": {},
   "outputs": [],
   "source": []
  },
  {
   "cell_type": "code",
   "execution_count": null,
   "id": "a5ae18e5",
   "metadata": {},
   "outputs": [],
   "source": []
  },
  {
   "cell_type": "code",
   "execution_count": null,
   "id": "04b5b85e",
   "metadata": {},
   "outputs": [],
   "source": []
  }
 ],
 "metadata": {
  "kernelspec": {
   "display_name": "Python 3 (ipykernel)",
   "language": "python",
   "name": "python3"
  },
  "language_info": {
   "codemirror_mode": {
    "name": "ipython",
    "version": 3
   },
   "file_extension": ".py",
   "mimetype": "text/x-python",
   "name": "python",
   "nbconvert_exporter": "python",
   "pygments_lexer": "ipython3",
   "version": "3.9.13"
  }
 },
 "nbformat": 4,
 "nbformat_minor": 5
}
